{
  "cells": [
    {
      "cell_type": "markdown",
      "source": [
        "# Clone GitHub Repo: grapeleafGPT\n",
        "\n",
        "This repo contains all of the files necessary to train AnomalyGPT on the [Kaggle Grape Leaf Disease dataset](https://www.kaggle.com/datasets/rm1000/grape-disease-dataset-original) and also the files needed to train AnomalyGPT on the MVTec dataset described in the AnomalyGPT documentation.\n",
        "\n",
        "The following cells install requirements for training grapeleafGPT.\n",
        "\n",
        "\n"
      ],
      "metadata": {
        "id": "RyX2uN3vtMj3"
      }
    },
    {
      "cell_type": "code",
      "execution_count": null,
      "metadata": {
        "collapsed": true,
        "id": "8irU0LoRAwhH"
      },
      "outputs": [],
      "source": [
        "!git clone https://github.com/mikejrodd/grapeleafGPT\n"
      ]
    },
    {
      "cell_type": "code",
      "execution_count": null,
      "metadata": {
        "collapsed": true,
        "id": "wfFUXJ10J0Cj"
      },
      "outputs": [],
      "source": [
        "%cd /content/grapeleafGPT\n",
        "!pip install -r requirements.txt"
      ]
    },
    {
      "cell_type": "code",
      "execution_count": null,
      "metadata": {
        "collapsed": true,
        "id": "Pab3pa4RL6Tx"
      },
      "outputs": [],
      "source": [
        "!pip install torch==1.13.1+cu117 torchvision==0.14.1+cu117 torchaudio==0.13.1 --extra-index-url https://download.pytorch.org/whl/cu117\n"
      ]
    },
    {
      "cell_type": "markdown",
      "source": [
        "# Connect Google Drive\n",
        "\n",
        "The model checkpoints and datasets are too large to save in Colab, so they are linked here from my personal MyDrive"
      ],
      "metadata": {
        "id": "h-RIN0jnuPR2"
      }
    },
    {
      "cell_type": "code",
      "execution_count": null,
      "metadata": {
        "id": "zxA6EsDoA4b2"
      },
      "outputs": [],
      "source": [
        "from google.colab import drive\n",
        "drive.mount('/content/drive')\n"
      ]
    },
    {
      "cell_type": "markdown",
      "source": [
        "# Link to Datasets, Checkpoints, and Weights\n",
        "\n",
        "ImageBind, PandaGPT, Vicuna are added to the script for model training.\n",
        "\n",
        "Grape leaf images are linked as well as PandaGPT image set. If you are training on MVTec, be sure to add a link to your saved MVTec dataset."
      ],
      "metadata": {
        "id": "Hby_F8Wauee7"
      }
    },
    {
      "cell_type": "code",
      "execution_count": null,
      "metadata": {
        "id": "R_yVfuHnBJKm"
      },
      "outputs": [],
      "source": [
        "!mkdir -p /content/grapeleafGPT/pretrained_ckpt/imagebind_ckpt\n",
        "!ln -s /content/drive/MyDrive/gtprac/imagebind_huge.pth /content/grapeleafGPT/pretrained_ckpt/imagebind_ckpt/imagebind_huge.pth\n",
        "\n",
        "!mkdir -p /content/grapeleafGPT/pretrained_ckpt/vicuna_ckpt/7b_v0\n",
        "!ln -s /content/drive/MyDrive/gtprac/7b_v0/* /content/grapeleafGPT/pretrained_ckpt/vicuna_ckpt/7b_v0/\n",
        "\n",
        "!mkdir -p /content/grapeleafGPT/data/\n",
        "!ln -s /content/drive/MyDrive/gtprac/data/pandagpt4_visual_instruction_data.json /content/grapeleafGPT/data/pandagpt4_visual_instruction_data.json\n",
        "\n",
        "!ln -s /content/drive/MyDrive/gtprac/leaf_images/grapeleaves /content/grapeleafGPT/data/grapeleaves\n",
        "\n",
        "!mkdir -p /content/grapeleafGPT/pretrained_ckpt/pandagpt_ckpt/7b\n",
        "!ln -s /content/drive/MyDrive/gtprac/pytorch_model.pt /content/grapeleafGPT/pretrained_ckpt/pandagpt_ckpt/7b/pytorch_model.pt\n",
        "\n",
        "# Link to pandaGPT images\n",
        "!mkdir -p /content/grapeleafGPT/data/images\n",
        "!ln -s /content/drive/MyDrive/gtprac/data/images/* /content/grapeleafGPT/data/images/\n"
      ]
    },
    {
      "cell_type": "markdown",
      "source": [
        "# Train grapeleafGPT\n",
        "\n",
        "The following script will begin training the grapeleafGPT model. The training may take longer than the Colab runtime limit (24 hours), in which case you may have to load the last checkpoint and continue training."
      ],
      "metadata": {
        "id": "74_rT2RcvCJ9"
      }
    },
    {
      "cell_type": "code",
      "execution_count": null,
      "metadata": {
        "collapsed": true,
        "id": "E5oSKNFpYdfp"
      },
      "outputs": [],
      "source": [
        "# Run this cell to train grapeleafGPT\n",
        "\n",
        "%cd /content/grapeleafGPT/code\n",
        "!bash ./scripts/train_grapeleaves_panda.sh"
      ]
    },
    {
      "cell_type": "markdown",
      "source": [
        "# Save trained model\n",
        "\n",
        "Run the below cell to save the trained model to MyDrive"
      ],
      "metadata": {
        "id": "FOmam1O_r9NJ"
      }
    },
    {
      "cell_type": "code",
      "execution_count": null,
      "metadata": {
        "colab": {
          "base_uri": "https://localhost:8080/"
        },
        "id": "N82KMkYTM8CM",
        "outputId": "4d8560d8-018f-4444-ae7c-04fce65ddedb"
      },
      "outputs": [
        {
          "name": "stdout",
          "output_type": "stream",
          "text": [
            "Files copied successfully.\n"
          ]
        }
      ],
      "source": [
        "# import os\n",
        "# import shutil\n",
        "\n",
        "# source_dir = '/content/grapeleafGPT/code/ckpt/train_grapeleaves'\n",
        "# dest_dir = '/content/drive/MyDrive/gtprac/grapeleaves_trained_model_panda/train_grapeleaves'\n",
        "\n",
        "# os.makedirs(dest_dir, exist_ok=True)\n",
        "\n",
        "# for root, dirs, files in os.walk(source_dir):\n",
        "#     for file in files:\n",
        "#         source_file = os.path.join(root, file)\n",
        "#         # Construct the destination file path\n",
        "#         relative_path = os.path.relpath(root, source_dir)\n",
        "#         dest_path = os.path.join(dest_dir, relative_path)\n",
        "#         os.makedirs(dest_path, exist_ok=True)  # Create directories if they don't exist\n",
        "#         shutil.copy(source_file, dest_path)  # Copy each file\n",
        "\n",
        "# print(\"Files copied successfully.\")\n"
      ]
    },
    {
      "cell_type": "markdown",
      "source": [
        "# Test grapeleafGPT\n",
        "\n",
        "Run the cell below to load the previously trained model from MyDrive and then run test_grapeleaves.py.\n",
        "\n",
        "Output will be in the following format:\n",
        "\n",
        "```python\n",
        "grapeleaves right: 1437 wrong: 2288\n",
        "i_AUROC: 67.24709677419354\n",
        "p_AUROC: 58.694516129032266\n",
        "precision: 38.57718276977539\n"
      ],
      "metadata": {
        "id": "6LSLYp7rsOVB"
      }
    },
    {
      "cell_type": "code",
      "execution_count": null,
      "metadata": {
        "id": "ntKtMO3mtMpB"
      },
      "outputs": [],
      "source": [
        "# Load train_grapeleaves model (fully trained)\n",
        "!mkdir -p /content/grapeleafGPT/code/ckpt/train_grapeleaves\n",
        "!ln -s /content/drive/MyDrive/gtprac/grapeleaves_trained_model_panda/train_grapeleaves/* /content/grapeleafGPT/code/ckpt/train_grapeleaves/\n",
        "\n",
        "# Run test script\n",
        "%cd /content/grapeleafGPT/code\n",
        "!python test_grapeleaves.py"
      ]
    }
  ],
  "metadata": {
    "accelerator": "GPU",
    "colab": {
      "gpuType": "L4",
      "machine_shape": "hm",
      "provenance": []
    },
    "kernelspec": {
      "display_name": "Python 3",
      "name": "python3"
    },
    "language_info": {
      "name": "python"
    }
  },
  "nbformat": 4,
  "nbformat_minor": 0
}